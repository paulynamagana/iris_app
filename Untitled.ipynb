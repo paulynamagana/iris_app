{
 "cells": [
  {
   "cell_type": "code",
   "execution_count": 2,
   "id": "b2f15dfd-1cd8-4da0-86e6-6a7fc56bba1a",
   "metadata": {},
   "outputs": [],
   "source": [
    "# Importing necessary libraries\n",
    "import pandas as pd # To manage data as data frames\n",
    "import numpy as np # To manipulate data as arrays\n",
    "from sklearn.linear_model import LogisticRegression # Classification model\n",
    "\n",
    "# Importing the dataset\n",
    "data = pd.read_csv('./iris.csv')"
   ]
  },
  {
   "cell_type": "code",
   "execution_count": null,
   "id": "cc164de2-4ca1-49d1-8e01-c092c5e8b103",
   "metadata": {},
   "outputs": [],
   "source": []
  }
 ],
 "metadata": {
  "kernelspec": {
   "display_name": "Python 3",
   "language": "python",
   "name": "python3"
  },
  "language_info": {
   "codemirror_mode": {
    "name": "ipython",
    "version": 3
   },
   "file_extension": ".py",
   "mimetype": "text/x-python",
   "name": "python",
   "nbconvert_exporter": "python",
   "pygments_lexer": "ipython3",
   "version": "3.8.10"
  },
  "toc-autonumbering": true,
  "toc-showcode": true,
  "toc-showmarkdowntxt": true
 },
 "nbformat": 4,
 "nbformat_minor": 5
}
